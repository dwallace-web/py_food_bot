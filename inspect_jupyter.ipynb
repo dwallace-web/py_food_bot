{
 "cells": [
  {
   "cell_type": "code",
   "execution_count": 8,
   "metadata": {},
   "outputs": [],
   "source": [
    "import pandas as pd\n",
    "# from datetime import datetime, date, time\n",
    "import config, requests, json, random, time\n",
    "import tweepy\n",
    "\n",
    "auth = tweepy.OAuthHandler(consumer_key=config.API_KEY,\n",
    "                           consumer_secret=config.API_KEY_SECRET)\n",
    "auth.set_access_token(config.ACCESS_TOKEN, config.ACCESS_TOKEN_SECRET)\n",
    "api = tweepy.API(auth)"
   ]
  },
  {
   "cell_type": "code",
   "execution_count": 9,
   "metadata": {},
   "outputs": [],
   "source": [
    "user_input = input(\"remote or local?\")\n",
    "\n",
    "if user_input.lower() == \"remote\":\n",
    "    data = pd.read_json('https://data.cityofchicago.org/resource/4ijn-s7e5.json')\n",
    "elif user_input.lower() == \"local\":\n",
    "    data = pd.read_csv('Food_Inspections.csv')\n",
    "else:\n",
    "    raise ValueError(\"Invalid option. Valid answers are 'remote' or 'local'.\")\n"
   ]
  },
  {
   "cell_type": "code",
   "execution_count": 10,
   "metadata": {},
   "outputs": [],
   "source": [
    "#fix column headers\n",
    "data.columns = data.columns.str.strip()\n",
    "standardize_columns = {'Inspection ID':'inspection_id', 'DBA Name':'dba_name', 'AKA Name':'aka_name', 'License #':'license_', 'Facility Type':'facility_type',\n",
    "       'Risk':'risk', 'Address':'address', 'City':'city', 'State':'state', 'Zip':'zip', 'Inspection Date':'inspection_date',\n",
    "       'Inspection Type':'inspection_type', 'Results':'results', 'Violations':'violations', 'Latitude':'latitude', 'Longitude':'longitude',\n",
    "       'Location':'location'\n",
    "}\n",
    "data.rename(columns=standardize_columns, inplace=True)"
   ]
  },
  {
   "cell_type": "code",
   "execution_count": 11,
   "metadata": {},
   "outputs": [
    {
     "data": {
      "text/plain": [
       "Pass                  491\n",
       "Fail                  217\n",
       "Pass w/ Conditions    126\n",
       "No Entry               71\n",
       "Out of Business        65\n",
       "Not Ready              30\n",
       "Name: results, dtype: int64"
      ]
     },
     "execution_count": 11,
     "metadata": {},
     "output_type": "execute_result"
    }
   ],
   "source": [
    "if user_input.lower() == \"remote\":\n",
    "    data['inspection_date'] = pd.to_datetime(data['inspection_date'], format='%Y-%m-%d')\n",
    "else:\n",
    "    data['inspection_date'] = pd.to_datetime(data['inspection_date'], format='%Y/%m/%d/')\n",
    "\n",
    "data['clean_year'] = data['inspection_date'].dt.strftime('%Y')\n",
    "data['clean_date'] = data['inspection_date'].dt.strftime('%m/%d/%Y')\n",
    "\n",
    "most_recent_date = data['inspection_date'].max()\n",
    "data['results'].unique()\n",
    "data['results'].value_counts()\n",
    "\n"
   ]
  },
  {
   "cell_type": "code",
   "execution_count": 12,
   "metadata": {},
   "outputs": [
    {
     "data": {
      "text/plain": [
       "Pass         4\n",
       "Fail         2\n",
       "Not Ready    1\n",
       "Name: results, dtype: int64"
      ]
     },
     "execution_count": 12,
     "metadata": {},
     "output_type": "execute_result"
    }
   ],
   "source": [
    "recent_results = data[data['inspection_date'] == most_recent_date]\n",
    "recent_results['results'].value_counts()"
   ]
  },
  {
   "cell_type": "code",
   "execution_count": 13,
   "metadata": {},
   "outputs": [],
   "source": [
    "#build the statuses\n",
    "\n",
    "status_list = []\n",
    "\n",
    "for i, current_restaurant in recent_results.iterrows():\n",
    "    \n",
    "    current_result = current_restaurant['results']\n",
    "    current_name = current_restaurant['dba_name']\n",
    "    current_address = current_restaurant['address']\n",
    "    current_date = current_restaurant['clean_date']\n",
    "\n",
    "\n",
    "    current_status = ''\n",
    "\n",
    "    match current_result:\n",
    "        case \"Pass\":\n",
    "            current_status = (f'{current_name} at {current_address} passed the health inspection on {current_date}')\n",
    "        case \"Fail\":\n",
    "            current_status = (f'{current_name} at {current_address} failed the health inspection on {current_date}')\n",
    "        case \"Pass w/ Conditions\":\n",
    "            current_status = (f'{current_name} at {current_address} conditionally passed the health inspection {current_date}. Buyer beware.')\n",
    "        case \"Out of Business\":\n",
    "            current_status = (f'{current_name} at {current_address} appears to be Out of Business')\n",
    "        case \"No Entry\":\n",
    "            current_status = (f'No Entry could occur at {current_name} at {current_address} ...')\n",
    "        case _:\n",
    "            current_status = (f'The rating at {current_name} at {current_address} on {current_date} is unavailable.')\n",
    "\n",
    "    status_list.append(current_status)"
   ]
  },
  {
   "cell_type": "code",
   "execution_count": 14,
   "metadata": {},
   "outputs": [],
   "source": [
    "for x in status_list:\n",
    "    \n",
    "    time.sleep(30)\n",
    "\n",
    "    api.update_status(x)\n"
   ]
  }
 ],
 "metadata": {
  "kernelspec": {
   "display_name": "Python 3.10.0 ('twitter_food_bot': venv)",
   "language": "python",
   "name": "python3"
  },
  "language_info": {
   "codemirror_mode": {
    "name": "ipython",
    "version": 3
   },
   "file_extension": ".py",
   "mimetype": "text/x-python",
   "name": "python",
   "nbconvert_exporter": "python",
   "pygments_lexer": "ipython3",
   "version": "3.10.0"
  },
  "orig_nbformat": 4,
  "vscode": {
   "interpreter": {
    "hash": "032b44e3ed5a57ffd4a52f9eb2efd9b93eb5e7e6950c646511d2b2d4834ede00"
   }
  }
 },
 "nbformat": 4,
 "nbformat_minor": 2
}
