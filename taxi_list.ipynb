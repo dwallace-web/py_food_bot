{
 "cells": [
  {
   "cell_type": "code",
   "execution_count": null,
   "metadata": {},
   "outputs": [],
   "source": [
    "import pandas as pd\n",
    "from datetime import datetime, date\n",
    "\n",
    "user_input = input(\"remote or local?\")\n",
    "\n",
    "if user_input.lower() == \"remote\":\n",
    "    data = pd.read_json('https://data.cityofchicago.org/resource/6u8z-aubf.json?$limit=5000')\n",
    "elif user_input.lower() == \"local\":\n",
    "    data = pd.read_csv('{empty}.csv')\n",
    "else:\n",
    "    raise ValueError(\"Invalid option. Valid answers are 'remote' or 'local'.\")\n"
   ]
  },
  {
   "cell_type": "code",
   "execution_count": null,
   "metadata": {},
   "outputs": [],
   "source": [
    "data['buyers_company_name'].value_counts()"
   ]
  }
 ],
 "metadata": {
  "kernelspec": {
   "display_name": "Python 3.10.0 ('twitter_food_bot': venv)",
   "language": "python",
   "name": "python3"
  },
  "language_info": {
   "codemirror_mode": {
    "name": "ipython",
    "version": 3
   },
   "file_extension": ".py",
   "mimetype": "text/x-python",
   "name": "python",
   "nbconvert_exporter": "python",
   "pygments_lexer": "ipython3",
   "version": "3.10.0"
  },
  "orig_nbformat": 4,
  "vscode": {
   "interpreter": {
    "hash": "032b44e3ed5a57ffd4a52f9eb2efd9b93eb5e7e6950c646511d2b2d4834ede00"
   }
  }
 },
 "nbformat": 4,
 "nbformat_minor": 2
}
